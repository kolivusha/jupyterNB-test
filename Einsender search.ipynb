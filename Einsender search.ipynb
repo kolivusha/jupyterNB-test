{
 "cells": [
  {
   "cell_type": "code",
   "execution_count": 21,
   "id": "1d968ceb-abd5-40c9-a754-16cd8454ca03",
   "metadata": {},
   "outputs": [
    {
     "data": {
      "text/html": [
       "<style>:root { --jp-notebook-max-width: 100% !important; }</style>"
      ],
      "text/plain": [
       "<IPython.core.display.HTML object>"
      ]
     },
     "metadata": {},
     "output_type": "display_data"
    },
    {
     "name": "stdout",
     "output_type": "stream",
     "text": [
      "(6276, 35)\n"
     ]
    }
   ],
   "source": []
  },
  {
   "cell_type": "code",
   "execution_count": 16,
   "id": "f5f0b6ac-bcc1-4054-bbbc-9b2d9a1592b3",
   "metadata": {},
   "outputs": [
    {
     "data": {
      "application/vnd.jupyter.widget-view+json": {
       "model_id": "a86b8eee0bd449d4b66e722c0561dfe2",
       "version_major": 2,
       "version_minor": 0
      },
      "text/plain": [
       "Text(value='', description='Search:', layout=Layout(width='400px'), placeholder='Type a search term', style=Te…"
      ]
     },
     "metadata": {},
     "output_type": "display_data"
    },
    {
     "data": {
      "application/vnd.jupyter.widget-view+json": {
       "model_id": "74a14768b14d4931b0342ab278024dd4",
       "version_major": 2,
       "version_minor": 0
      },
      "text/plain": [
       "Output()"
      ]
     },
     "metadata": {},
     "output_type": "display_data"
    }
   ],
   "source": [
    "file_path = r'S:\\Projekte\\FG12_NRZ_MMR\\A_Mitarbeiter\\Oleksandr Kolyvushko\\Reports\\Temp_einseder\\all_time_Einsender_list.xlsx'\n",
    "df = pd.read_excel(file_path)\n",
    "import pandas as pd\n",
    "from rapidfuzz import process\n",
    "from fuzzywuzzy import fuzz\n",
    "import ipywidgets as widgets\n",
    "from IPython.display import display, HTML\n",
    "\n",
    "#df= pd.read_excel(file_path)\n",
    "df['Plz'] = pd.to_numeric(df['Plz'], errors='coerce').astype('Int64')\n",
    "# Fuzzy search function for multiple columns\n",
    "def highlight_search_term(text, search_term):\n",
    "    regex = re.compile(re.escape(search_term), re.IGNORECASE)\n",
    "    return regex.sub(lambda match: f'<mark>{match.group(0)}</mark>', text)\n",
    "\n",
    "def highlight_search_term(text, search_term, color):\n",
    "    regex = re.compile(re.escape(search_term), re.IGNORECASE)\n",
    "    return regex.sub(lambda match: f'<mark style=\"background-color: {color};\">{match.group(0)}</mark>', text)\n",
    "\n",
    "def fuzzy_search_optimized(search_term, df, columns):\n",
    "    # Combine the values from specified columns into a single search space\n",
    "    df['combined'] = df[columns].apply(lambda x: ' '.join(x.astype(str)), axis=1)\n",
    "    \n",
    "    # Perform fuzzy matching on the combined column\n",
    "    matches = process.extract(search_term, df['combined'], limit=100)\n",
    "    \n",
    "    # Extract the indices of the matching rows\n",
    "    matching_indices = [match[2] for match in matches]\n",
    "    \n",
    "    # Extract matching rows from DataFrame\n",
    "    result_df = df.loc[matching_indices,\n",
    "    columnsshown\n",
    "    ]\n",
    "    # Highlight exact matches in yellow\n",
    "    # Highlight exact matches in yellow\n",
    "    for column in columns:\n",
    "        result_df[column] = result_df[column].astype(str).apply(\n",
    "            lambda x: highlight_search_term(x, search_term, 'yellow') \n",
    "                      if re.search(re.escape(search_term), x, re.IGNORECASE) \n",
    "                      else x\n",
    "        )\n",
    "    \n",
    "    # Highlight partial matches in orange\n",
    "    for column in columns:\n",
    "        result_df[column] = result_df[column].astype(str).apply(\n",
    "            lambda x: highlight_partial_match(x, search_term, 'orange') \n",
    "                      if fuzz.partial_ratio(search_term.lower(), x.lower()) > 60 \n",
    "                      else x\n",
    "        )\n",
    "    \n",
    "    # Display results\n",
    "    display(HTML(result_df.to_html(index=False, escape=False)))\n",
    "def highlight_partial_match(text, search_term, color):\n",
    "    best_match = process.extractOne(search_term, [text])\n",
    "    if best_match and best_match[1] > 60:\n",
    "        return highlight_search_term(text, best_match[0], color)\n",
    "    return text\n",
    "# Create a text input widget\n",
    "search = widgets.Text(\n",
    "    value='',\n",
    "    placeholder='Type a search term',\n",
    "    description='Search:',\n",
    "    disabled=False,\n",
    "    layout=widgets.Layout(width='400px')\n",
    ")\n",
    "search.style.description_width = 'initial'\n",
    "columnsshown= [\n",
    "    'IdEinsender', 'Anschrift1', 'Anschrift2', 'Anschrift3', \n",
    "    'Strasse', 'Plz', 'Ort', 'Telefon', 'eMail', 'combined', 'EinKurz','CreatedAt'\n",
    "]\n",
    "# Set up the interactive display\n",
    "output = widgets.Output()\n",
    "\n",
    "def on_search_change(change):\n",
    "    with output:\n",
    "        output.clear_output()\n",
    "        fuzzy_search_optimized(change['new'], df, [\n",
    "            #'Anschrift1','Anschrift2','Anschrift3', 'eMail','EinKurz','Plz',\n",
    "            'EinKurz' ])\n",
    "\n",
    "# Add event listener to the text input\n",
    "search.observe(on_search_change, names='value')\n",
    "\n",
    "# Display the widgets\n",
    "display(search, output)"
   ]
  },
  {
   "cell_type": "code",
   "execution_count": null,
   "id": "5aadcca2-63f3-4449-b780-a218b574758c",
   "metadata": {},
   "outputs": [],
   "source": []
  }
 ],
 "metadata": {
  "kernelspec": {
   "display_name": "Python 3 (ipykernel)",
   "language": "python",
   "name": "python3"
  },
  "language_info": {
   "codemirror_mode": {
    "name": "ipython",
    "version": 3
   },
   "file_extension": ".py",
   "mimetype": "text/x-python",
   "name": "python",
   "nbconvert_exporter": "python",
   "pygments_lexer": "ipython3",
   "version": "3.11.8"
  }
 },
 "nbformat": 4,
 "nbformat_minor": 5
}
