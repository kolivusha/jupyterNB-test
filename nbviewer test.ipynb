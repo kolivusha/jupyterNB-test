{
 "cells": [
  {
   "cell_type": "code",
   "execution_count": 3,
   "id": "4a2ca19c-4810-47bb-882a-778e5e918924",
   "metadata": {},
   "outputs": [
    {
     "name": "stdout",
     "output_type": "stream",
     "text": [
      "Search Results:\n",
      "             Name  Age\n",
      "0      John Smith   34\n",
      "1        Jane Doe   28\n",
      "2    Mary Johnson   45\n",
      "3  James Williams   30\n",
      "4  Patricia Brown   38\n"
     ]
    }
   ],
   "source": [
    "#!/usr/bin/env python\n",
    "# coding: utf-8\n",
    "\n",
    "# # `foo.ipynb`\n",
    "\n",
    "# In[1]:\n",
    "def bar():\n",
    "    return \"bar\"\n",
    "\n",
    "# In[2]:\n",
    "def has_ip_syntax():\n",
    "    listing = get_ipython().getoutput(\"ls\")\n",
    "    return listing\n",
    "\n",
    "# In[3]:\n",
    "def whatsmyname():\n",
    "    return __name__"
   ]
  },
  {
   "cell_type": "code",
   "execution_count": null,
   "id": "cc6d4614-b406-49c8-84ad-8ac9091c96da",
   "metadata": {},
   "outputs": [],
   "source": []
  }
 ],
 "metadata": {
  "kernelspec": {
   "display_name": "Python 3 (ipykernel)",
   "language": "python",
   "name": "python3"
  },
  "language_info": {
   "codemirror_mode": {
    "name": "ipython",
    "version": 3
   },
   "file_extension": ".py",
   "mimetype": "text/x-python",
   "name": "python",
   "nbconvert_exporter": "python",
   "pygments_lexer": "ipython3",
   "version": "3.11.8"
  }
 },
 "nbformat": 4,
 "nbformat_minor": 5
}
