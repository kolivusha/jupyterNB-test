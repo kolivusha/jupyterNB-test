{
 "cells": [
  {
   "cell_type": "code",
   "execution_count": null,
   "id": "4a2ca19c-4810-47bb-882a-778e5e918924",
   "metadata": {},
   "outputs": [],
   "source": [
    "import pandas as pd\n",
    "from fuzzywuzzy import process\n",
    "\n",
    "# Sample DataFrame\n",
    "data = {\n",
    "    'Name': ['John Smith', 'Jane Doe', 'Mary Johnson', 'James Williams', 'Patricia Brown'],\n",
    "    'Age': [34, 28, 45, 30, 38]\n",
    "}\n",
    "df = pd.DataFrame(data)\n",
    "\n",
    "# Function for fuzzy search\n",
    "def fuzzy_search(query, column, df, limit=5):\n",
    "    choices = df[column].tolist()\n",
    "    results = process.extract(query, choices, limit=limit)\n",
    "    indices = [choices.index(result[0]) for result in results]\n",
    "    return df.iloc[indices]\n",
    "\n",
    "# Usage example\n",
    "query = \"Jone Smith\"\n",
    "results = fuzzy_search(query, 'Name', df)\n",
    "\n",
    "import ace_tools as tools; tools.display_dataframe_to_user(name=\"Fuzzy Search Results\", dataframe=results)\n",
    "\n",
    "print(\"Search Results:\")\n",
    "print(results)\n"
   ]
  }
 ],
 "metadata": {
  "kernelspec": {
   "display_name": "Python 3 (ipykernel)",
   "language": "python",
   "name": "python3"
  },
  "language_info": {
   "codemirror_mode": {
    "name": "ipython",
    "version": 3
   },
   "file_extension": ".py",
   "mimetype": "text/x-python",
   "name": "python",
   "nbconvert_exporter": "python",
   "pygments_lexer": "ipython3",
   "version": "3.11.8"
  }
 },
 "nbformat": 4,
 "nbformat_minor": 5
}
